{
  "nbformat": 4,
  "nbformat_minor": 0,
  "metadata": {
    "kernelspec": {
      "display_name": "Python 3",
      "language": "python",
      "name": "python3"
    },
    "language_info": {
      "codemirror_mode": {
        "name": "ipython",
        "version": 3
      },
      "file_extension": ".py",
      "mimetype": "text/x-python",
      "name": "python",
      "nbconvert_exporter": "python",
      "pygments_lexer": "ipython3",
      "version": "3.7.9"
    },
    "colab": {
      "name": "index.ipynb",
      "provenance": [],
      "collapsed_sections": []
    }
  },
  "cells": [
    {
      "cell_type": "markdown",
      "metadata": {
        "id": "MR3F-woo5a0C"
      },
      "source": [
        "If you are new to Python notebooks, we encourage you to go through an overview at, for example, [Google Colab](https://colab.research.google.com/notebooks/basic_features_overview.ipynb)."
      ]
    },
    {
      "cell_type": "markdown",
      "metadata": {
        "id": "j_oyfECK5a0H"
      },
      "source": [
        "## Table of Contents"
      ]
    },
    {
      "cell_type": "markdown",
      "metadata": {
        "id": "ljO6lahB5a0H"
      },
      "source": [
        "[Chapter 1. Proofs: Convincing Arguments](01_proofs_convincing_arguments.ipynb)\n",
        "\n",
        "[Chapter 2. Finding an Example](02_finding_an_example.ipynb)\n",
        "\n",
        "[Chapter 4. Logic](04_logic.ipynb)\n",
        "\n",
        "[Chapter 5. Invariants](05_invariants.ipynb)"
      ]
    },
    {
      "cell_type": "code",
      "metadata": {
        "id": "VekgJUKn5a0I"
      },
      "source": [
        ""
      ],
      "execution_count": null,
      "outputs": []
    }
  ]
}